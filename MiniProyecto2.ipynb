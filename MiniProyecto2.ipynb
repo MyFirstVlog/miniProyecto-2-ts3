{
  "nbformat": 4,
  "nbformat_minor": 0,
  "metadata": {
    "colab": {
      "name": "MiniProyecto2.ipynb",
      "provenance": [],
      "collapsed_sections": []
    },
    "kernelspec": {
      "name": "python3",
      "display_name": "Python 3"
    },
    "language_info": {
      "name": "python"
    }
  },
  "cells": [
    {
      "cell_type": "code",
      "metadata": {
        "id": "E2l9qlE_H0wX"
      },
      "source": [
        "import numpy as np\n",
        "import matplotlib.pyplot as plt\n",
        "import seaborn as sns\n",
        "import pandas as pd\n",
        "from sklearn.metrics import r2_score\n",
        "from sklearn.decomposition import PCA\n",
        "from ipywidgets import interact\n",
        "from sklearn.linear_model import BayesianRidge"
      ],
      "execution_count": null,
      "outputs": []
    },
    {
      "cell_type": "markdown",
      "metadata": {
        "id": "L6nsSvhRIHm_"
      },
      "source": [
        "##**$Miniproyecto$ $2$ $-$ $Tratamiento$ $de$ $señales$ $3$**\n",
        "\n",
        "Manuel José Bothert Martínez, Yeison Monsalve Sanchez, Juan Manuel Marín Gallego, Alejandro Estrada Moscoso"
      ]
    },
    {
      "cell_type": "code",
      "metadata": {
        "id": "uLkWmaGEIQ7O",
        "colab": {
          "base_uri": "https://localhost:8080/",
          "height": 357
        },
        "outputId": "eb9b449a-24ff-4782-93c4-1967d7771187"
      },
      "source": [
        "data = pd.read_csv('Dataframe_Miniproyecto_1.csv') # Cargamos el dataframe.\n",
        "data[20:26]"
      ],
      "execution_count": null,
      "outputs": [
        {
          "output_type": "execute_result",
          "data": {
            "text/html": [
              "<div>\n",
              "<style scoped>\n",
              "    .dataframe tbody tr th:only-of-type {\n",
              "        vertical-align: middle;\n",
              "    }\n",
              "\n",
              "    .dataframe tbody tr th {\n",
              "        vertical-align: top;\n",
              "    }\n",
              "\n",
              "    .dataframe thead th {\n",
              "        text-align: right;\n",
              "    }\n",
              "</style>\n",
              "<table border=\"1\" class=\"dataframe\">\n",
              "  <thead>\n",
              "    <tr style=\"text-align: right;\">\n",
              "      <th></th>\n",
              "      <th>Pot(SSA1)</th>\n",
              "      <th>F_Pmax(SSA1)</th>\n",
              "      <th>Energia(SSA1)</th>\n",
              "      <th>Media(SSA1)</th>\n",
              "      <th>Var(SSA1)</th>\n",
              "      <th>Max(SSA1)</th>\n",
              "      <th>Min(SSA1)</th>\n",
              "      <th>Pot(SSA2)</th>\n",
              "      <th>F_Pmax(SSA2)</th>\n",
              "      <th>Energia(SSA2)</th>\n",
              "      <th>Media(SSA2)</th>\n",
              "      <th>Var(SSA2)</th>\n",
              "      <th>Max(SSA2)</th>\n",
              "      <th>Min(SSA2)</th>\n",
              "      <th>Pot(SSA3)</th>\n",
              "      <th>F_Pmax(SSA3)</th>\n",
              "      <th>Energia(SSA3)</th>\n",
              "      <th>Media(SSA3)</th>\n",
              "      <th>Var(SSA3)</th>\n",
              "      <th>Max(SSA3)</th>\n",
              "      <th>Min(SSA3)</th>\n",
              "      <th>Pot(SSA4)</th>\n",
              "      <th>F_Pmax(SSA4)</th>\n",
              "      <th>Energia(SSA4)</th>\n",
              "      <th>Media(SSA4)</th>\n",
              "      <th>Var(SSA4)</th>\n",
              "      <th>Max(SSA4)</th>\n",
              "      <th>Min(SSA4)</th>\n",
              "      <th>Pot(SSA5)</th>\n",
              "      <th>F_Pmax(SSA5)</th>\n",
              "      <th>Energia(SSA5)</th>\n",
              "      <th>Media(SSA5)</th>\n",
              "      <th>Var(SSA5)</th>\n",
              "      <th>Max(SSA5)</th>\n",
              "      <th>Min(SSA5)</th>\n",
              "      <th>Tipo</th>\n",
              "    </tr>\n",
              "  </thead>\n",
              "  <tbody>\n",
              "    <tr>\n",
              "      <th>20</th>\n",
              "      <td>0.035135</td>\n",
              "      <td>1.367188</td>\n",
              "      <td>11.001499</td>\n",
              "      <td>0.003284</td>\n",
              "      <td>0.000032</td>\n",
              "      <td>0.035135</td>\n",
              "      <td>0.000853</td>\n",
              "      <td>0.003019</td>\n",
              "      <td>12.500000</td>\n",
              "      <td>0.552222</td>\n",
              "      <td>0.001389</td>\n",
              "      <td>7.253244e-07</td>\n",
              "      <td>0.003019</td>\n",
              "      <td>0.000551</td>\n",
              "      <td>0.001652</td>\n",
              "      <td>21.484375</td>\n",
              "      <td>0.134158</td>\n",
              "      <td>0.000553</td>\n",
              "      <td>2.636978e-07</td>\n",
              "      <td>0.001652</td>\n",
              "      <td>0.000040</td>\n",
              "      <td>0.001226</td>\n",
              "      <td>33.007812</td>\n",
              "      <td>0.084436</td>\n",
              "      <td>0.000422</td>\n",
              "      <td>1.697307e-07</td>\n",
              "      <td>0.001226</td>\n",
              "      <td>0.000015</td>\n",
              "      <td>0.002252</td>\n",
              "      <td>49.218750</td>\n",
              "      <td>0.115062</td>\n",
              "      <td>0.000379</td>\n",
              "      <td>2.586398e-07</td>\n",
              "      <td>0.002252</td>\n",
              "      <td>0.000004</td>\n",
              "      <td>Tele</td>\n",
              "    </tr>\n",
              "    <tr>\n",
              "      <th>21</th>\n",
              "      <td>0.029894</td>\n",
              "      <td>1.367188</td>\n",
              "      <td>4.606804</td>\n",
              "      <td>0.002967</td>\n",
              "      <td>0.000021</td>\n",
              "      <td>0.029894</td>\n",
              "      <td>0.000829</td>\n",
              "      <td>0.007911</td>\n",
              "      <td>23.632812</td>\n",
              "      <td>0.936704</td>\n",
              "      <td>0.000954</td>\n",
              "      <td>1.189736e-06</td>\n",
              "      <td>0.007911</td>\n",
              "      <td>0.000205</td>\n",
              "      <td>0.006765</td>\n",
              "      <td>23.632812</td>\n",
              "      <td>0.729775</td>\n",
              "      <td>0.000880</td>\n",
              "      <td>6.813874e-07</td>\n",
              "      <td>0.006765</td>\n",
              "      <td>0.000009</td>\n",
              "      <td>0.016724</td>\n",
              "      <td>49.414062</td>\n",
              "      <td>0.898656</td>\n",
              "      <td>0.001075</td>\n",
              "      <td>3.858378e-06</td>\n",
              "      <td>0.016724</td>\n",
              "      <td>0.000002</td>\n",
              "      <td>0.005118</td>\n",
              "      <td>36.132812</td>\n",
              "      <td>0.422817</td>\n",
              "      <td>0.001137</td>\n",
              "      <td>6.239358e-07</td>\n",
              "      <td>0.005118</td>\n",
              "      <td>0.000426</td>\n",
              "      <td>Loc</td>\n",
              "    </tr>\n",
              "    <tr>\n",
              "      <th>22</th>\n",
              "      <td>0.034312</td>\n",
              "      <td>1.367188</td>\n",
              "      <td>5.915285</td>\n",
              "      <td>0.003285</td>\n",
              "      <td>0.000030</td>\n",
              "      <td>0.034312</td>\n",
              "      <td>0.000892</td>\n",
              "      <td>0.003664</td>\n",
              "      <td>39.257812</td>\n",
              "      <td>0.585503</td>\n",
              "      <td>0.001027</td>\n",
              "      <td>5.236090e-07</td>\n",
              "      <td>0.003664</td>\n",
              "      <td>0.000395</td>\n",
              "      <td>0.004341</td>\n",
              "      <td>49.414062</td>\n",
              "      <td>0.357888</td>\n",
              "      <td>0.000757</td>\n",
              "      <td>5.939477e-07</td>\n",
              "      <td>0.004341</td>\n",
              "      <td>0.000010</td>\n",
              "      <td>0.003606</td>\n",
              "      <td>16.406250</td>\n",
              "      <td>0.349304</td>\n",
              "      <td>0.001000</td>\n",
              "      <td>5.822095e-07</td>\n",
              "      <td>0.003606</td>\n",
              "      <td>0.000177</td>\n",
              "      <td>0.005411</td>\n",
              "      <td>49.414062</td>\n",
              "      <td>0.263703</td>\n",
              "      <td>0.000745</td>\n",
              "      <td>5.959332e-07</td>\n",
              "      <td>0.005411</td>\n",
              "      <td>0.000022</td>\n",
              "      <td>Loc</td>\n",
              "    </tr>\n",
              "    <tr>\n",
              "      <th>23</th>\n",
              "      <td>0.041829</td>\n",
              "      <td>49.218750</td>\n",
              "      <td>4.208005</td>\n",
              "      <td>0.002187</td>\n",
              "      <td>0.000024</td>\n",
              "      <td>0.041829</td>\n",
              "      <td>0.000035</td>\n",
              "      <td>0.019187</td>\n",
              "      <td>1.367188</td>\n",
              "      <td>1.921571</td>\n",
              "      <td>0.001928</td>\n",
              "      <td>9.163823e-06</td>\n",
              "      <td>0.019187</td>\n",
              "      <td>0.000308</td>\n",
              "      <td>0.009791</td>\n",
              "      <td>37.109375</td>\n",
              "      <td>0.923061</td>\n",
              "      <td>0.001577</td>\n",
              "      <td>3.721770e-06</td>\n",
              "      <td>0.009791</td>\n",
              "      <td>0.000115</td>\n",
              "      <td>0.005253</td>\n",
              "      <td>25.976562</td>\n",
              "      <td>0.418438</td>\n",
              "      <td>0.001253</td>\n",
              "      <td>1.696167e-06</td>\n",
              "      <td>0.005253</td>\n",
              "      <td>0.000030</td>\n",
              "      <td>0.007639</td>\n",
              "      <td>13.671875</td>\n",
              "      <td>0.423201</td>\n",
              "      <td>0.001322</td>\n",
              "      <td>2.373468e-06</td>\n",
              "      <td>0.007639</td>\n",
              "      <td>0.000154</td>\n",
              "      <td>Loc</td>\n",
              "    </tr>\n",
              "    <tr>\n",
              "      <th>24</th>\n",
              "      <td>0.041829</td>\n",
              "      <td>49.218750</td>\n",
              "      <td>4.208005</td>\n",
              "      <td>0.002187</td>\n",
              "      <td>0.000024</td>\n",
              "      <td>0.041829</td>\n",
              "      <td>0.000035</td>\n",
              "      <td>0.019187</td>\n",
              "      <td>1.367188</td>\n",
              "      <td>1.921571</td>\n",
              "      <td>0.001928</td>\n",
              "      <td>9.163823e-06</td>\n",
              "      <td>0.019187</td>\n",
              "      <td>0.000308</td>\n",
              "      <td>0.009791</td>\n",
              "      <td>37.109375</td>\n",
              "      <td>0.923061</td>\n",
              "      <td>0.001577</td>\n",
              "      <td>3.721770e-06</td>\n",
              "      <td>0.009791</td>\n",
              "      <td>0.000115</td>\n",
              "      <td>0.005253</td>\n",
              "      <td>25.976562</td>\n",
              "      <td>0.418438</td>\n",
              "      <td>0.001253</td>\n",
              "      <td>1.696167e-06</td>\n",
              "      <td>0.005253</td>\n",
              "      <td>0.000030</td>\n",
              "      <td>0.007639</td>\n",
              "      <td>13.671875</td>\n",
              "      <td>0.423201</td>\n",
              "      <td>0.001322</td>\n",
              "      <td>2.373468e-06</td>\n",
              "      <td>0.007639</td>\n",
              "      <td>0.000154</td>\n",
              "      <td>Loc</td>\n",
              "    </tr>\n",
              "    <tr>\n",
              "      <th>25</th>\n",
              "      <td>0.033841</td>\n",
              "      <td>1.367188</td>\n",
              "      <td>5.774650</td>\n",
              "      <td>0.003245</td>\n",
              "      <td>0.000029</td>\n",
              "      <td>0.033841</td>\n",
              "      <td>0.000847</td>\n",
              "      <td>0.004781</td>\n",
              "      <td>49.023438</td>\n",
              "      <td>0.267329</td>\n",
              "      <td>0.001137</td>\n",
              "      <td>3.418100e-07</td>\n",
              "      <td>0.004781</td>\n",
              "      <td>0.000107</td>\n",
              "      <td>0.007078</td>\n",
              "      <td>49.023438</td>\n",
              "      <td>0.305427</td>\n",
              "      <td>0.000933</td>\n",
              "      <td>7.856088e-07</td>\n",
              "      <td>0.007078</td>\n",
              "      <td>0.000260</td>\n",
              "      <td>0.003486</td>\n",
              "      <td>35.937500</td>\n",
              "      <td>0.149797</td>\n",
              "      <td>0.000642</td>\n",
              "      <td>3.261934e-07</td>\n",
              "      <td>0.003486</td>\n",
              "      <td>0.000010</td>\n",
              "      <td>0.002687</td>\n",
              "      <td>29.101562</td>\n",
              "      <td>0.140041</td>\n",
              "      <td>0.000618</td>\n",
              "      <td>3.524628e-07</td>\n",
              "      <td>0.002687</td>\n",
              "      <td>0.000007</td>\n",
              "      <td>Loc</td>\n",
              "    </tr>\n",
              "  </tbody>\n",
              "</table>\n",
              "</div>"
            ],
            "text/plain": [
              "    Pot(SSA1)  F_Pmax(SSA1)  Energia(SSA1)  ...  Max(SSA5)  Min(SSA5)  Tipo\n",
              "20   0.035135      1.367188      11.001499  ...   0.002252   0.000004  Tele\n",
              "21   0.029894      1.367188       4.606804  ...   0.005118   0.000426   Loc\n",
              "22   0.034312      1.367188       5.915285  ...   0.005411   0.000022   Loc\n",
              "23   0.041829     49.218750       4.208005  ...   0.007639   0.000154   Loc\n",
              "24   0.041829     49.218750       4.208005  ...   0.007639   0.000154   Loc\n",
              "25   0.033841      1.367188       5.774650  ...   0.002687   0.000007   Loc\n",
              "\n",
              "[6 rows x 36 columns]"
            ]
          },
          "metadata": {},
          "execution_count": 56
        }
      ]
    },
    {
      "cell_type": "code",
      "metadata": {
        "id": "bEx39kqIJfmu"
      },
      "source": [
        "dataSismo = np.asarray(data.drop('Tipo',1))\n",
        "\n",
        "Tags = [\"\" for x in range(63)]\n",
        "for i in range(0,21,1):\n",
        "  Tags[i] = 0\n",
        "for j in range(21,42,1):\n",
        "  Tags[j] = 1\n",
        "for l in range(42,63,1):\n",
        "  Tags[l] = 2"
      ],
      "execution_count": null,
      "outputs": []
    },
    {
      "cell_type": "code",
      "metadata": {
        "id": "5_oq3hgXL7HX",
        "colab": {
          "base_uri": "https://localhost:8080/"
        },
        "outputId": "5713ed9d-ec77-48d6-deb2-ec740b2e3378"
      },
      "source": [
        "pca = PCA(n_components = 35)  # project from 64 to 2 dimensions\n",
        "projectedZ = pca.fit_transform(dataSismo) # Entrenamos el modelo PCA (Calculamos los parámetros de proyección W, autovals, autovecs)\n",
        "BasisW = pca.components_\n",
        "print(\"Dataframe size: \", data.shape)\n",
        "print(\"Z Projection size: \", projectedZ.shape)\n",
        "print(\"PCA explained variance: \", pca.explained_variance_)\n",
        "print(\"W Projection size: \", BasisW.shape)"
      ],
      "execution_count": null,
      "outputs": [
        {
          "output_type": "stream",
          "name": "stdout",
          "text": [
            "Dataframe size:  (63, 36)\n",
            "Z Projection size:  (63, 35)\n",
            "PCA explained variance:  [6.53777632e+02 4.85272696e+02 2.68812864e+02 1.61791766e+02\n",
            " 8.23025263e+01 4.70666973e+01 1.99137523e+01 1.56547842e+00\n",
            " 7.11385250e-02 4.94515873e-02 4.33659936e-05 1.96429931e-05\n",
            " 1.09655388e-05 3.73777252e-06 1.44879301e-06 4.47993757e-08\n",
            " 3.27131679e-08 1.83689989e-08 1.49092002e-08 7.81468676e-09\n",
            " 2.81256345e-09 2.17638349e-09 8.56512189e-10 4.88184443e-10\n",
            " 3.29702931e-10 5.72923405e-12 2.69879454e-13 1.17822922e-13\n",
            " 4.65010642e-14 2.02280611e-15 2.83119639e-30 2.83119639e-30\n",
            " 2.83119639e-30 2.83119639e-30 2.62999461e-31]\n",
            "W Projection size:  (35, 35)\n"
          ]
        }
      ]
    },
    {
      "cell_type": "code",
      "metadata": {
        "id": "E-NiBNrfSQsu",
        "colab": {
          "base_uri": "https://localhost:8080/",
          "height": 313
        },
        "outputId": "5211f65c-6d4d-4667-cd17-b71a0565e731"
      },
      "source": [
        "varExp = pca.explained_variance_ratio_\n",
        "print(varExp.shape,'\\n Explained variance',np.sum(varExp[:8]))\n",
        "plt.plot(np.cumsum(pca.explained_variance_ratio_))\n",
        "plt.xlabel('number of components')\n",
        "plt.ylabel('cumulative explained variance');"
      ],
      "execution_count": null,
      "outputs": [
        {
          "output_type": "stream",
          "name": "stdout",
          "text": [
            "(35,) \n",
            " Explained variance 0.9999298688191215\n"
          ]
        },
        {
          "output_type": "display_data",
          "data": {
            "image/png": "[encoded data removed]",
            "text/plain": [
              "<Figure size 432x288 with 1 Axes>"
            ]
          },
          "metadata": {
            "needs_background": "light"
          }
        }
      ]
    },
    {
      "cell_type": "code",
      "metadata": {
        "id": "VjQKM1XbMXl-",
        "colab": {
          "base_uri": "https://localhost:8080/",
          "height": 283
        },
        "outputId": "7b2b66a1-e68c-4b86-8841-589c1207c033"
      },
      "source": [
        "plt.scatter(projectedZ[:, 0], projectedZ[:, 1], c=Tags, edgecolor='none', cmap=plt.cm.get_cmap('tab10', 3))\n",
        "plt.xlabel('component 1')\n",
        "plt.ylabel('component 2')\n",
        "plt.colorbar();"
      ],
      "execution_count": null,
      "outputs": [
        {
          "output_type": "display_data",
          "data": {
            "image/png": "[encoded data removed]",
            "text/plain": [
              "<Figure size 432x288 with 2 Axes>"
            ]
          },
          "metadata": {
            "needs_background": "light"
          }
        }
      ]
    },
    {
      "cell_type": "code",
      "metadata": {
        "id": "stL14naUGhrz"
      },
      "source": [
        "def projectedZ_Components(n,data,):\n",
        "  pca = PCA(n_components = n)\n",
        "  projectedZ = pca.fit_transform(data)\n",
        "  BasisW = pca.components_\n",
        "  print(\"Dataframe size: \", data.shape)\n",
        "  print(\"Z Projection size: \", projectedZ.shape)\n",
        "  print(\"PCA explained variance: \", pca.explained_variance_)\n",
        "  print(\"W Projection size: \", BasisW.shape)\n",
        "  return projectedZ"
      ],
      "execution_count": null,
      "outputs": []
    },
    {
      "cell_type": "code",
      "metadata": {
        "colab": {
          "base_uri": "https://localhost:8080/",
          "height": 459
        },
        "id": "coi1qvytE-2d",
        "outputId": "d3c4e242-9fe0-4d30-bc6a-9f275111c24e"
      },
      "source": [
        "n = 2\n",
        "dataFrame = pd.DataFrame(projectedZ_Components(n,dataSismo),columns=np.linspace(1,n,num=n))\n",
        "dataFrame['Labels'] = Tags\n",
        "sns.pairplot(dataFrame, hue= 'Labels',palette='tab10')"
      ],
      "execution_count": null,
      "outputs": [
        {
          "output_type": "stream",
          "name": "stdout",
          "text": [
            "Dataframe size:  (63, 35)\n",
            "Z Projection size:  (63, 2)\n",
            "PCA explained variance:  [653.77763169 485.27269569]\n",
            "W Projection size:  (2, 35)\n"
          ]
        },
        {
          "output_type": "execute_result",
          "data": {
            "text/plain": [
              "<seaborn.axisgrid.PairGrid at 0x7fe80a207910>"
            ]
          },
          "metadata": {},
          "execution_count": 72
        },
        {
          "output_type": "display_data",
          "data": {
            "image/png": "[encoded data removed]",
            "text/plain": [
              "<Figure size 402.375x360 with 6 Axes>"
            ]
          },
          "metadata": {
            "needs_background": "light"
          }
        }
      ]
    },
    {
      "cell_type": "markdown",
      "metadata": {
        "id": "sbFeVpKyJeyG"
      },
      "source": [
        "Tele --> 0\n",
        "Local --> 1\n",
        "Reg --> 2"
      ]
    },
    {
      "cell_type": "markdown",
      "metadata": {
        "id": "J3TeZd85Jeqb"
      },
      "source": [
        ""
      ]
    },
    {
      "cell_type": "code",
      "metadata": {
        "colab": {
          "base_uri": "https://localhost:8080/",
          "height": 774
        },
        "id": "i-uqyOBCUgCa",
        "outputId": "5d114c68-3580-4919-9096-1d016b67aaab"
      },
      "source": [
        "from sklearn.utils.validation import check_random_state\n",
        "import numpy as np\n",
        "import matplotlib.pyplot as plt\n",
        "from sklearn.linear_model import LogisticRegression\n",
        "from sklearn.model_selection import train_test_split\n",
        "from sklearn import datasets\n",
        "\n",
        "# importemos algunos datos\n",
        "X = dataSismo[:, 2:4]  # Tomemos como ejemplo las primeras dos dimensiones.\n",
        "Y = Tags\n",
        "\n",
        "# Dividimos el conjunto de datos en Entrenamiento y Test\n",
        "X_train, X_test, y_train, y_test = train_test_split(X, Y, random_state = 123)\n",
        "\n",
        "\n",
        "# Creamos un modelo de Regresión Logística para Clasificación y entrenamos los datos\n",
        "logreg = LogisticRegression(C=1e5)\n",
        "logreg.fit(X_train, y_train)\n",
        "\n",
        "# Graficamos la superficie de decisión. Para ellos, asignaremos a cada color\n",
        "# un punto en la malla [x_min, x_max]x[y_min, y_max].\n",
        "x_min, x_max = X[:, 0].min() - .5, X[:, 0].max() + .5\n",
        "y_min, y_max = X[:, 1].min() - .5, X[:, 1].max() + .5\n",
        "h = .02  # tamaño del paso en la malla\n",
        "xx, yy = np.meshgrid(np.arange(x_min, x_max, h), np.arange(y_min, y_max, h))\n",
        "Z = logreg.predict(np.c_[xx.ravel(), yy.ravel()])\n",
        "\n",
        "# Se grafican los resultados en regioes de colores\n",
        "Z = Z.reshape(xx.shape)\n",
        "plt.figure(1, figsize=(4, 3))\n",
        "plt.pcolormesh(xx, yy, Z, cmap=plt.cm.Paired)\n",
        "\n",
        "# Se grafican también los datos de entrenamiento\n",
        "plt.scatter(X_train[:, 0], X_train[:, 1], c=y_train, edgecolors='k', cmap=plt.cm.Paired)\n",
        "plt.scatter(X_test[:, 0], X_test[:, 1], c=y_test, edgecolors='b', cmap=plt.cm.Paired)\n",
        "plt.xlabel('Sepal length')\n",
        "plt.ylabel('Sepal width')\n",
        "\n",
        "plt.xlim(xx.min(), xx.max())\n",
        "plt.ylim(yy.min(), yy.max())\n",
        "plt.xticks(())\n",
        "plt.yticks(())\n",
        "\n",
        "plt.show()\n",
        "\n",
        "\n",
        "# Luego evaluamos el desempeño del clasificador tanto en entrenamiento cómo en test\n",
        "from sklearn.metrics import accuracy_score, confusion_matrix, ConfusionMatrixDisplay\n",
        "\n",
        "Acc_train = accuracy_score(y_train, logreg.predict(X_train))\n",
        "cMat_train = confusion_matrix(y_train, logreg.predict(X_train))\n",
        "\n",
        "Acc_test = accuracy_score(y_test, logreg.predict(X_test))\n",
        "cMat_test = confusion_matrix(y_test, logreg.predict(X_test))\n",
        "\n",
        "\n",
        "print('Acuracy Train: ',Acc_train)\n",
        "print('Acuracy Test: ',Acc_test)\n",
        "\n",
        "ax1 = ConfusionMatrixDisplay(cMat_train, display_labels=['telesismo','local','regional'])\n",
        "ax1.plot()\n",
        "plt.show()\n",
        "\n",
        "\n",
        "ax2 = ConfusionMatrixDisplay(cMat_test, display_labels=['telesismo','local','regional'])\n",
        "ax2.plot()\n",
        "plt.show()"
      ],
      "execution_count": null,
      "outputs": [
        {
          "output_type": "display_data",
          "data": {
            "image/png": "[encoded data removed]",
            "text/plain": [
              "<Figure size 288x216 with 1 Axes>"
            ]
          },
          "metadata": {}
        },
        {
          "output_type": "stream",
          "name": "stdout",
          "text": [
            "Acuracy Train:  0.7659574468085106\n",
            "Acuracy Test:  0.875\n"
          ]
        },
        {
          "output_type": "display_data",
          "data": {
            "image/png": "[encoded data removed]",
            "text/plain": [
              "<Figure size 432x288 with 2 Axes>"
            ]
          },
          "metadata": {
            "needs_background": "light"
          }
        },
        {
          "output_type": "display_data",
          "data": {
            "image/png": "[encoded data removed]",
            "text/plain": [
              "<Figure size 432x288 with 2 Axes>"
            ]
          },
          "metadata": {
            "needs_background": "light"
          }
        }
      ]
    },
    {
      "cell_type": "code",
      "metadata": {
        "colab": {
          "base_uri": "https://localhost:8080/",
          "height": 774
        },
        "id": "pb33DkjsPhsx",
        "outputId": "1f332646-da43-4a03-dabd-cc1740b22293"
      },
      "source": [
        "from sklearn.model_selection import train_test_split\n",
        "from sklearn.linear_model import LogisticRegression\n",
        "\n",
        "# importemos algunos datos\n",
        "iris = data\n",
        "\n",
        "modelPCA = PCA(n_components=2)\n",
        "X = dataSismo \n",
        "\n",
        "X_PCA = modelPCA.fit_transform(X)\n",
        "Y = Tags\n",
        "\n",
        "# Dividimos el conjunto de datos en Entrenamiento y Test\n",
        "X_train, X_test, y_train, y_test = train_test_split(X_PCA, Y, random_state = 123)\n",
        "\n",
        "\n",
        "# Creamos un modelo de Regresión Logística para Clasificación y entrenamos los datos\n",
        "logreg = LogisticRegression(C=1e5)\n",
        "logreg.fit(X_train, y_train)\n",
        "\n",
        "# Graficamos la superficie de decisión. Para ellos, asignaremos a cada color\n",
        "# un punto en la malla [x_min, x_max]x[y_min, y_max].\n",
        "x_min, x_max = X_PCA[:, 0].min() - .5, X_PCA[:, 0].max() + .5\n",
        "y_min, y_max = X_PCA[:, 1].min() - .5, X_PCA[:, 1].max() + .5\n",
        "h = .02  # tamaño del paso en la malla\n",
        "xx, yy = np.meshgrid(np.arange(x_min, x_max, h), np.arange(y_min, y_max, h))\n",
        "Z = logreg.predict(np.c_[xx.ravel(), yy.ravel()])\n",
        "\n",
        "# Se grafican los resultados en regioes de colores\n",
        "Z = Z.reshape(xx.shape)\n",
        "plt.figure(1, figsize=(4, 3))\n",
        "plt.pcolormesh(xx, yy, Z, cmap=plt.cm.Paired)\n",
        "\n",
        "# Se grafican también los datos de entrenamiento\n",
        "plt.scatter(X_train[:, 0], X_train[:, 1], c=y_train, edgecolors='k', cmap=plt.cm.Paired)\n",
        "plt.scatter(X_test[:, 0], X_test[:, 1], c=y_test, edgecolors='b', cmap=plt.cm.Paired)\n",
        "plt.xlabel('Sepal length')\n",
        "plt.ylabel('Sepal width')\n",
        "\n",
        "plt.xlim(xx.min(), xx.max())\n",
        "plt.ylim(yy.min(), yy.max())\n",
        "plt.xticks(())\n",
        "plt.yticks(())\n",
        "\n",
        "plt.show()\n",
        "\n",
        "\n",
        "# Luego evaluamos el desempeño del clasificador tanto en entrenamiento cómo en test\n",
        "from sklearn.metrics import accuracy_score, confusion_matrix, ConfusionMatrixDisplay\n",
        "\n",
        "Acc_train = accuracy_score(y_train, logreg.predict(X_train))\n",
        "cMat_train = confusion_matrix(y_train, logreg.predict(X_train))\n",
        "\n",
        "Acc_test = accuracy_score(y_test, logreg.predict(X_test))\n",
        "cMat_test = confusion_matrix(y_test, logreg.predict(X_test))\n",
        "\n",
        "\n",
        "print('Acuracy Train: ',Acc_train)\n",
        "print('Acuracy Test: ',Acc_test)\n",
        "\n",
        "ax1 = ConfusionMatrixDisplay(cMat_train, display_labels=['telesismo','local','regional'])\n",
        "ax1.plot()\n",
        "plt.show()\n",
        "\n",
        "\n",
        "ax2 = ConfusionMatrixDisplay(cMat_test, display_labels=['telesismo','local','regional'])\n",
        "ax2.plot()\n",
        "plt.show()"
      ],
      "execution_count": null,
      "outputs": [
        {
          "output_type": "display_data",
          "data": {
            "image/png": "[encoded data removed]",
            "text/plain": [
              "<Figure size 288x216 with 1 Axes>"
            ]
          },
          "metadata": {}
        },
        {
          "output_type": "stream",
          "name": "stdout",
          "text": [
            "Acuracy Train:  0.723404255319149\n",
            "Acuracy Test:  0.75\n"
          ]
        },
        {
          "output_type": "display_data",
          "data": {
            "image/png": "[encoded data removed]",
            "text/plain": [
              "<Figure size 432x288 with 2 Axes>"
            ]
          },
          "metadata": {
            "needs_background": "light"
          }
        },
        {
          "output_type": "display_data",
          "data": {
            "image/png": "[encoded data removed]",
            "text/plain": [
              "<Figure size 432x288 with 2 Axes>"
            ]
          },
          "metadata": {
            "needs_background": "light"
          }
        }
      ]
    },
    {
      "cell_type": "code",
      "metadata": {
        "colab": {
          "base_uri": "https://localhost:8080/",
          "height": 718
        },
        "id": "AqMIFceHf0Sa",
        "outputId": "26fdefb8-811f-4c1f-a1a9-0047cb0c3877"
      },
      "source": [
        "X = dataSismo[:,1:5]\n",
        "t = np.array(Tags)\n",
        "pC1 = np.sum(np.where(t == 0, 1., 0.)) / len(t)\n",
        "pC2 = np.sum(np.where(t == 1, 1., 0.)) / len(t)\n",
        "pC3 = np.sum(np.where(t == 2, 1., 0.)) / len(t)\n",
        "\n",
        "# Seleccionamos los X de la clase 1\n",
        "X1 = X[t == 0]\n",
        "mu_C1 = np.mean(X1,axis = 0)\n",
        "# Seleccionamos los X de la clase 2\n",
        "X2 = X[t == 1]\n",
        "mu_C2 = np.mean(X2,axis = 0)\n",
        "# Seleccionamos los X de la clase 3\n",
        "X3 = X[t == 2]\n",
        "mu_C3 = np.mean(X3,axis = 0)\n",
        "\n",
        "plt.scatter(X[:,0],X[:,1],c = t)\n",
        "plt.plot(mu_C1[0],mu_C1[1],'or')\n",
        "plt.plot(mu_C2[0],mu_C2[1],'dg')\n",
        "plt.plot(mu_C3[0],mu_C3[1],'sy')\n",
        "\n",
        "N1 = np.sum(np.where(t == 0, 1., 0.))\n",
        "MU_1 = np.tile(mu_C1,(np.int(N1),1))\n",
        "S1 = (1/N1)*((X1-MU_1).T)@(X1-MU_1)\n",
        "\n",
        "\n",
        "N2 = np.sum(np.where(t == 1, 1., 0.))\n",
        "MU_2 = np.tile(mu_C2,(np.int(N2),1))\n",
        "S2 = (1/N2)*((X2-MU_2).T)@(X2-MU_2)\n",
        "\n",
        "N3 = np.sum(np.where(t == 2, 1., 0.))\n",
        "MU_3 = np.tile(mu_C3,(np.int(N3),1))\n",
        "S3 = (1/N3)*((X3-MU_3).T)@(X3-MU_3)\n",
        "\n",
        "N = N1 + N2 + N3\n",
        "Sigma = (N1/N)*S1 + (N2/N)*S2 + (N3/N)*S3\n",
        "\n",
        "invSigma = np.linalg.inv(Sigma)\n",
        "w_C1 = invSigma@mu_C1\n",
        "w_10 = -0.5*((mu_C1).T)@(invSigma@mu_C1) + np.log(pC1)\n",
        "\n",
        "w_C2 = invSigma@mu_C2\n",
        "w_20 = -0.5*((mu_C2).T)@(invSigma@mu_C2) + np.log(pC2)\n",
        "\n",
        "w_C3 = invSigma@mu_C3\n",
        "w_30 = -0.5*((mu_C3).T)@(invSigma@mu_C3) + np.log(pC3)\n",
        "\n",
        "# Para las activaciones\n",
        "\n",
        "A1 = (X@w_C1 + w_10).reshape(np.int(N),1)\n",
        "A2 = (X@w_C2 + w_20).reshape(np.int(N),1)\n",
        "A3 = (X@w_C1 + w_30).reshape(np.int(N),1)\n",
        "\n",
        "A = np.concatenate((A1,A2,A3),axis = 1)\n",
        "\n",
        "expA = np.exp(A)\n",
        "aux = np.sum(expA,axis = 1).reshape(int(N),1)\n",
        "auxM = np.tile(aux,(1,3))\n",
        "\n",
        "p_Ck_dado_X =  expA/auxM # Posterior: y_Est\n",
        "\n",
        "print(p_Ck_dado_X[:10])\n",
        "# print(np.sum(p_Ck_dado_X,axis = 1))\n",
        "t_Est = np.argmax(p_Ck_dado_X, axis = 1)\n",
        "\n",
        "from sklearn.metrics import accuracy_score, confusion_matrix, ConfusionMatrixDisplay\n",
        "\n",
        "Acc = accuracy_score(t,t_Est)\n",
        "cMat = confusion_matrix(t,t_Est)\n",
        "\n",
        "print('Accuracy: ',Acc)\n",
        "\n",
        "ax = ConfusionMatrixDisplay(cMat, display_labels = ['setosa','versicolor','virginica'])\n",
        "ax.plot()\n",
        "plt.show()"
      ],
      "execution_count": null,
      "outputs": [
        {
          "output_type": "stream",
          "name": "stdout",
          "text": [
            "[[0.60512737 0.24383359 0.15103904]\n",
            " [0.60512737 0.24383359 0.15103904]\n",
            " [0.60512737 0.24383359 0.15103904]\n",
            " [0.60512737 0.24383359 0.15103904]\n",
            " [0.60512737 0.24383359 0.15103904]\n",
            " [0.60512737 0.24383359 0.15103904]\n",
            " [0.60512737 0.24383359 0.15103904]\n",
            " [0.60512737 0.24383359 0.15103904]\n",
            " [0.57903554 0.27643791 0.14452656]\n",
            " [0.59959905 0.25074176 0.14965918]]\n",
            "Accuracy:  0.47619047619047616\n"
          ]
        },
        {
          "output_type": "display_data",
          "data": {
            "image/png": "[encoded data removed]",
            "text/plain": [
              "<Figure size 432x288 with 1 Axes>"
            ]
          },
          "metadata": {
            "needs_background": "light"
          }
        },
        {
          "output_type": "display_data",
          "data": {
            "image/png": "[encoded data removed]",
            "text/plain": [
              "<Figure size 432x288 with 2 Axes>"
            ]
          },
          "metadata": {
            "needs_background": "light"
          }
        }
      ]
    }
  ]
}